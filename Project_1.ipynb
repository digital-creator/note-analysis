{
  "nbformat": 4,
  "nbformat_minor": 0,
  "metadata": {
    "colab": {
      "name": "Копия блокнота \"Project 1.\"",
      "provenance": [],
      "collapsed_sections": [
        "qh4a-KrSfzWz"
      ]
    },
    "kernelspec": {
      "name": "python3",
      "display_name": "Python 3"
    }
  },
  "cells": [
    {
      "cell_type": "markdown",
      "metadata": {
        "id": "crjrNZmTU3sO"
      },
      "source": [
        "# DVD Rental database\n",
        "База представляет бизнес процессы магазина по аренде DVD.\n",
        "\n",
        "В ней содержится 15 таблиц:\n",
        "\n",
        "1. actor – хранит данные об актерах, включая их имя и фамилию.\n",
        "2. film – хранит данные о фильмах, такие как название, год выпуска, продолжительность, рейтинг и т.д.\n",
        "3. film_actor – хранит связи между фильмами и актерами.\n",
        "4. category – хранит категории фильмов\n",
        "5. film_category - хранит взаимосвязи между фильмами и категориями.\n",
        "6. store – хранит данные магазина, включая управляющий состав и адрес.\n",
        "7. inventory – хранит инвентарные номера фильмов по магазинам.\n",
        "8. rental – хранит данные об аренде.\n",
        "9. payment – хранит платежи клиентов.\n",
        "10. staff – хранит данные персонала магазинов.\n",
        "11. customer – хранит данные клиентов.\n",
        "12. address – хранит адреса для персонала и клиентов.\n",
        "13. city – хранит имена городов.\n",
        "14. country – хранит названия стран.\n",
        "15. language – хранит языки фильмов."
      ]
    },
    {
      "cell_type": "markdown",
      "metadata": {
        "id": "ogoVCsXsUXVi"
      },
      "source": [
        "![схема базы](https://sp.postgresqltutorial.com/wp-content/uploads/2018/03/dvd-rental-sample-database-diagram.png)\n",
        "\n",
        "**В таблице film удалены колонки rental_duration, rental_rate и replacement_cost. Стоимость определяется только по таблице payment**\n",
        "\n",
        "У всех пользователей student_x есть доступ на чтение к этой базе данных. Название **dvdrental**."
      ]
    },
    {
      "cell_type": "markdown",
      "metadata": {
        "id": "IH0DoRk5Wk9p"
      },
      "source": [
        "# Что предстоит сделать?\n",
        "1. Провести ABC анализ ассортимента. Проверить выполняется ли для этих данных правило Парето? Если нет, то приведите подходящее на ваш взгляд разбиение\n",
        "2. На основе полученного (общего) анализа ассортимента, оцените средний объем недельной выручки в каждой категории в привязке к дате начала аренды. В какой категории эта оценка имеет меньший разброс?\n",
        "\n"
      ]
    },
    {
      "cell_type": "code",
      "metadata": {
        "colab": {
          "base_uri": "https://localhost:8080/"
        },
        "id": "WRaLub1DR48n",
        "outputId": "e20511f7-3da5-49d5-8e98-bed0b99fcf6b"
      },
      "source": [
        "!pip install psycopg2"
      ],
      "execution_count": null,
      "outputs": [
        {
          "output_type": "stream",
          "text": [
            "Requirement already satisfied: psycopg2 in /usr/local/lib/python3.6/dist-packages (2.7.6.1)\n"
          ],
          "name": "stdout"
        }
      ]
    },
    {
      "cell_type": "code",
      "metadata": {
        "id": "84sN2CgvUOG3",
        "colab": {
          "base_uri": "https://localhost:8080/"
        },
        "outputId": "0afb97e5-346b-4d69-ee0e-6f96b71c1c59"
      },
      "source": [
        "import numpy as np\r\n",
        "import pandas as pd\r\n",
        "import matplotlib.pyplot as plt\r\n",
        "import seaborn as sns\r\n",
        "import psycopg2\r\n",
        "\r\n",
        "DB_HOST = None\r\n",
        "DB_USER = None\r\n",
        "DB_USER_PASSWORD = None\r\n",
        "DB_NAME = 'dvdrental'"
      ],
      "execution_count": null,
      "outputs": [
        {
          "output_type": "stream",
          "text": [
            "/usr/local/lib/python3.6/dist-packages/psycopg2/__init__.py:144: UserWarning: The psycopg2 wheel package will be renamed from release 2.8; in order to keep installing from binary please use \"pip install psycopg2-binary\" instead. For details see: <http://initd.org/psycopg/docs/install.html#binary-install-from-pypi>.\n",
            "  \"\"\")\n"
          ],
          "name": "stderr"
        }
      ]
    },
    {
      "cell_type": "code",
      "metadata": {
        "id": "qJ_O8xH4SC7b"
      },
      "source": [
        "conn = psycopg2.connect(host=DB_HOST, user=DB_USER, password=DB_USER_PASSWORD, dbname=DB_NAME)"
      ],
      "execution_count": null,
      "outputs": []
    },
    {
      "cell_type": "markdown",
      "metadata": {
        "id": "N7uLmyBB7mYW"
      },
      "source": [
        "#### ABC анализ ассортимента"
      ]
    },
    {
      "cell_type": "markdown",
      "metadata": {
        "id": "IRoGTDghYYAm"
      },
      "source": [
        "Цель проведения ABC анализа: \r\n",
        "*  Выделить наиболее важные товары по прибыли"
      ]
    },
    {
      "cell_type": "markdown",
      "metadata": {
        "id": "3fUR5BFFH49M"
      },
      "source": [
        "##### Этапы проведения ABC анализа"
      ]
    },
    {
      "cell_type": "markdown",
      "metadata": {
        "id": "o_KuDoWR_GBC"
      },
      "source": [
        "В данном случае, мы можем прийти к решению за несколько шагов:\n",
        "\n",
        "1. Посчитаем выручку за каждую позицию\n",
        "2. Сгруппируем наши данные по идентификатору товара, и возьмем сумму по выручке\n",
        "3. Посчитаем суммарную выручку, и для каждого товара посмотрим какой вклад в общую выручку вносит каждый товар\n",
        "4. Отсортируем список с процентами \"вклада\", посчитаем еще один столбец с кумулятивной суммой по процентам\n",
        "5. На основе полученной таблицы, определим группы ABC"
      ]
    },
    {
      "cell_type": "markdown",
      "metadata": {
        "id": "DYlrt9jasbC1"
      },
      "source": [
        "#### Найдем наиболее важные товары для нашего магазина"
      ]
    },
    {
      "cell_type": "markdown",
      "metadata": {
        "id": "OWfcfa4qa_gX"
      },
      "source": [
        "#### Выгрузим данные из базы данных. Для ABC анализа нам понадобятся столбцы:\r\n",
        "*  film_id\r\n",
        "*  amount\r\n",
        "*  rental_date"
      ]
    },
    {
      "cell_type": "code",
      "metadata": {
        "id": "GaeUz8oDXfir",
        "colab": {
          "base_uri": "https://localhost:8080/",
          "height": 419
        },
        "outputId": "bb95067a-b16e-428c-c52f-f954b2b6f84b"
      },
      "source": [
        "\r\n",
        "data = pd.read_sql_query('''\r\n",
        "SELECT \r\n",
        "    film_id,\r\n",
        "    amount,\r\n",
        "    EXTRACT(WEEK FROM rental_date) AS week_number\r\n",
        "FROM (  \r\n",
        "  SELECT\r\n",
        "    payment.rental_id,\r\n",
        "    film.film_id,\r\n",
        "    payment.amount,\r\n",
        "    rental.rental_date\r\n",
        "  FROM film INNER JOIN inventory\r\n",
        "       ON film.film_id = inventory.film_id\r\n",
        "       INNER JOIN rental\r\n",
        "       ON inventory.inventory_id = rental.inventory_id\r\n",
        "       INNER JOIN payment\r\n",
        "       ON rental.rental_id = payment.rental_id) AS t\r\n",
        "''', conn)\r\n",
        "data"
      ],
      "execution_count": null,
      "outputs": [
        {
          "output_type": "execute_result",
          "data": {
            "text/html": [
              "<div>\n",
              "<style scoped>\n",
              "    .dataframe tbody tr th:only-of-type {\n",
              "        vertical-align: middle;\n",
              "    }\n",
              "\n",
              "    .dataframe tbody tr th {\n",
              "        vertical-align: top;\n",
              "    }\n",
              "\n",
              "    .dataframe thead th {\n",
              "        text-align: right;\n",
              "    }\n",
              "</style>\n",
              "<table border=\"1\" class=\"dataframe\">\n",
              "  <thead>\n",
              "    <tr style=\"text-align: right;\">\n",
              "      <th></th>\n",
              "      <th>film_id</th>\n",
              "      <th>amount</th>\n",
              "      <th>week_number</th>\n",
              "    </tr>\n",
              "  </thead>\n",
              "  <tbody>\n",
              "    <tr>\n",
              "      <th>0</th>\n",
              "      <td>257</td>\n",
              "      <td>3.99</td>\n",
              "      <td>24.0</td>\n",
              "    </tr>\n",
              "    <tr>\n",
              "      <th>1</th>\n",
              "      <td>257</td>\n",
              "      <td>0.99</td>\n",
              "      <td>24.0</td>\n",
              "    </tr>\n",
              "    <tr>\n",
              "      <th>2</th>\n",
              "      <td>323</td>\n",
              "      <td>5.99</td>\n",
              "      <td>24.0</td>\n",
              "    </tr>\n",
              "    <tr>\n",
              "      <th>3</th>\n",
              "      <td>323</td>\n",
              "      <td>4.99</td>\n",
              "      <td>24.0</td>\n",
              "    </tr>\n",
              "    <tr>\n",
              "      <th>4</th>\n",
              "      <td>803</td>\n",
              "      <td>4.99</td>\n",
              "      <td>24.0</td>\n",
              "    </tr>\n",
              "    <tr>\n",
              "      <th>...</th>\n",
              "      <td>...</td>\n",
              "      <td>...</td>\n",
              "      <td>...</td>\n",
              "    </tr>\n",
              "    <tr>\n",
              "      <th>14591</th>\n",
              "      <td>168</td>\n",
              "      <td>30.15</td>\n",
              "      <td>34.0</td>\n",
              "    </tr>\n",
              "    <tr>\n",
              "      <th>14592</th>\n",
              "      <td>951</td>\n",
              "      <td>22.93</td>\n",
              "      <td>34.0</td>\n",
              "    </tr>\n",
              "    <tr>\n",
              "      <th>14593</th>\n",
              "      <td>452</td>\n",
              "      <td>31.00</td>\n",
              "      <td>34.0</td>\n",
              "    </tr>\n",
              "    <tr>\n",
              "      <th>14594</th>\n",
              "      <td>439</td>\n",
              "      <td>21.93</td>\n",
              "      <td>34.0</td>\n",
              "    </tr>\n",
              "    <tr>\n",
              "      <th>14595</th>\n",
              "      <td>585</td>\n",
              "      <td>19.35</td>\n",
              "      <td>34.0</td>\n",
              "    </tr>\n",
              "  </tbody>\n",
              "</table>\n",
              "<p>14596 rows × 3 columns</p>\n",
              "</div>"
            ],
            "text/plain": [
              "       film_id  amount  week_number\n",
              "0          257    3.99         24.0\n",
              "1          257    0.99         24.0\n",
              "2          323    5.99         24.0\n",
              "3          323    4.99         24.0\n",
              "4          803    4.99         24.0\n",
              "...        ...     ...          ...\n",
              "14591      168   30.15         34.0\n",
              "14592      951   22.93         34.0\n",
              "14593      452   31.00         34.0\n",
              "14594      439   21.93         34.0\n",
              "14595      585   19.35         34.0\n",
              "\n",
              "[14596 rows x 3 columns]"
            ]
          },
          "metadata": {
            "tags": []
          },
          "execution_count": 4
        }
      ]
    },
    {
      "cell_type": "markdown",
      "metadata": {
        "id": "qh4a-KrSfzWz"
      },
      "source": [
        "###### Проведение ABC анализа при помощи SQL"
      ]
    },
    {
      "cell_type": "code",
      "metadata": {
        "colab": {
          "base_uri": "https://localhost:8080/"
        },
        "id": "ZgVZvXxyItbk",
        "outputId": "b9e6d17e-76f9-44bb-830c-af30de8323cf"
      },
      "source": [
        "abc_sql = pd.read_sql_query('''\r\n",
        "SELECT \r\n",
        "  film_id,\r\n",
        "  amount,\r\n",
        "  sum_amount,\r\n",
        "  sum_amount/sum(sum_amount) over() as percent,\r\n",
        "  sum(sum_amount) over(order by sum_amount DESC, film_id) as sum_prod,\r\n",
        "  rank() over(order by sum_amount DESC, film_id) as ranks,\r\n",
        "  sum(sum_amount) over() as sum_sale,\r\n",
        "  sum(sum_amount) over(order by sum_amount DESC, film_id) / sum(sum_amount) OVER() AS ratio_films,\r\n",
        "  CASE\r\n",
        "    WHEN sum(sum_amount) over(order by sum_amount DESC, film_id) / sum(sum_amount) over() < 0.8 THEN 'A'\r\n",
        "    WHEN sum(sum_amount) over(order by sum_amount DESC, film_id) / sum(sum_amount) over() BETWEEN 0.8 AND 0.95 THEN 'B'\r\n",
        "  ELSE 'C'\r\n",
        "  END AS category,\r\n",
        "  EXTRACT(WEEK FROM rental_date) AS number_week\r\n",
        "FROM\r\n",
        "     (\r\n",
        "        SELECT DISTINCT\r\n",
        "               film.film_id,\r\n",
        "               SUM(payment.amount) OVER(PARTITION BY film.film_id) AS sum_amount,\r\n",
        "               rental.rental_date,\r\n",
        "               payment.amount\r\n",
        "        FROM \r\n",
        "          film INNER JOIN inventory\r\n",
        "          ON film.film_id = inventory.film_id\r\n",
        "          INNER JOIN rental\r\n",
        "          ON inventory.inventory_id = rental.inventory_id\r\n",
        "          INNER JOIN payment\r\n",
        "          ON rental.rental_id = payment.rental_id\r\n",
        "     ) as t\r\n",
        "''', conn)\r\n",
        "abc_sql"
      ],
      "execution_count": null,
      "outputs": [
        {
          "output_type": "execute_result",
          "data": {
            "text/html": [
              "<div>\n",
              "<style scoped>\n",
              "    .dataframe tbody tr th:only-of-type {\n",
              "        vertical-align: middle;\n",
              "    }\n",
              "\n",
              "    .dataframe tbody tr th {\n",
              "        vertical-align: top;\n",
              "    }\n",
              "\n",
              "    .dataframe thead th {\n",
              "        text-align: right;\n",
              "    }\n",
              "</style>\n",
              "<table border=\"1\" class=\"dataframe\">\n",
              "  <thead>\n",
              "    <tr style=\"text-align: right;\">\n",
              "      <th></th>\n",
              "      <th>film_id</th>\n",
              "      <th>amount</th>\n",
              "      <th>sum_amount</th>\n",
              "      <th>percent</th>\n",
              "      <th>sum_prod</th>\n",
              "      <th>ranks</th>\n",
              "      <th>sum_sale</th>\n",
              "      <th>ratio_films</th>\n",
              "      <th>category</th>\n",
              "      <th>number_week</th>\n",
              "    </tr>\n",
              "  </thead>\n",
              "  <tbody>\n",
              "    <tr>\n",
              "      <th>0</th>\n",
              "      <td>973</td>\n",
              "      <td>35.12</td>\n",
              "      <td>930.62</td>\n",
              "      <td>0.000141</td>\n",
              "      <td>25126.74</td>\n",
              "      <td>1</td>\n",
              "      <td>6589610.32</td>\n",
              "      <td>0.003813</td>\n",
              "      <td>A</td>\n",
              "      <td>30.0</td>\n",
              "    </tr>\n",
              "    <tr>\n",
              "      <th>1</th>\n",
              "      <td>973</td>\n",
              "      <td>34.85</td>\n",
              "      <td>930.62</td>\n",
              "      <td>0.000141</td>\n",
              "      <td>25126.74</td>\n",
              "      <td>1</td>\n",
              "      <td>6589610.32</td>\n",
              "      <td>0.003813</td>\n",
              "      <td>A</td>\n",
              "      <td>27.0</td>\n",
              "    </tr>\n",
              "    <tr>\n",
              "      <th>2</th>\n",
              "      <td>973</td>\n",
              "      <td>34.01</td>\n",
              "      <td>930.62</td>\n",
              "      <td>0.000141</td>\n",
              "      <td>25126.74</td>\n",
              "      <td>1</td>\n",
              "      <td>6589610.32</td>\n",
              "      <td>0.003813</td>\n",
              "      <td>A</td>\n",
              "      <td>27.0</td>\n",
              "    </tr>\n",
              "    <tr>\n",
              "      <th>3</th>\n",
              "      <td>973</td>\n",
              "      <td>32.98</td>\n",
              "      <td>930.62</td>\n",
              "      <td>0.000141</td>\n",
              "      <td>25126.74</td>\n",
              "      <td>1</td>\n",
              "      <td>6589610.32</td>\n",
              "      <td>0.003813</td>\n",
              "      <td>A</td>\n",
              "      <td>34.0</td>\n",
              "    </tr>\n",
              "    <tr>\n",
              "      <th>4</th>\n",
              "      <td>973</td>\n",
              "      <td>35.52</td>\n",
              "      <td>930.62</td>\n",
              "      <td>0.000141</td>\n",
              "      <td>25126.74</td>\n",
              "      <td>1</td>\n",
              "      <td>6589610.32</td>\n",
              "      <td>0.003813</td>\n",
              "      <td>A</td>\n",
              "      <td>33.0</td>\n",
              "    </tr>\n",
              "    <tr>\n",
              "      <th>...</th>\n",
              "      <td>...</td>\n",
              "      <td>...</td>\n",
              "      <td>...</td>\n",
              "      <td>...</td>\n",
              "      <td>...</td>\n",
              "      <td>...</td>\n",
              "      <td>...</td>\n",
              "      <td>...</td>\n",
              "      <td>...</td>\n",
              "      <td>...</td>\n",
              "    </tr>\n",
              "    <tr>\n",
              "      <th>14587</th>\n",
              "      <td>257</td>\n",
              "      <td>3.99</td>\n",
              "      <td>36.90</td>\n",
              "      <td>0.000006</td>\n",
              "      <td>6589610.32</td>\n",
              "      <td>14583</td>\n",
              "      <td>6589610.32</td>\n",
              "      <td>1.000000</td>\n",
              "      <td>C</td>\n",
              "      <td>30.0</td>\n",
              "    </tr>\n",
              "    <tr>\n",
              "      <th>14588</th>\n",
              "      <td>257</td>\n",
              "      <td>3.99</td>\n",
              "      <td>36.90</td>\n",
              "      <td>0.000006</td>\n",
              "      <td>6589610.32</td>\n",
              "      <td>14583</td>\n",
              "      <td>6589610.32</td>\n",
              "      <td>1.000000</td>\n",
              "      <td>C</td>\n",
              "      <td>33.0</td>\n",
              "    </tr>\n",
              "    <tr>\n",
              "      <th>14589</th>\n",
              "      <td>257</td>\n",
              "      <td>5.99</td>\n",
              "      <td>36.90</td>\n",
              "      <td>0.000006</td>\n",
              "      <td>6589610.32</td>\n",
              "      <td>14583</td>\n",
              "      <td>6589610.32</td>\n",
              "      <td>1.000000</td>\n",
              "      <td>C</td>\n",
              "      <td>28.0</td>\n",
              "    </tr>\n",
              "    <tr>\n",
              "      <th>14590</th>\n",
              "      <td>257</td>\n",
              "      <td>0.99</td>\n",
              "      <td>36.90</td>\n",
              "      <td>0.000006</td>\n",
              "      <td>6589610.32</td>\n",
              "      <td>14583</td>\n",
              "      <td>6589610.32</td>\n",
              "      <td>1.000000</td>\n",
              "      <td>C</td>\n",
              "      <td>33.0</td>\n",
              "    </tr>\n",
              "    <tr>\n",
              "      <th>14591</th>\n",
              "      <td>257</td>\n",
              "      <td>3.99</td>\n",
              "      <td>36.90</td>\n",
              "      <td>0.000006</td>\n",
              "      <td>6589610.32</td>\n",
              "      <td>14583</td>\n",
              "      <td>6589610.32</td>\n",
              "      <td>1.000000</td>\n",
              "      <td>C</td>\n",
              "      <td>24.0</td>\n",
              "    </tr>\n",
              "  </tbody>\n",
              "</table>\n",
              "<p>14592 rows × 10 columns</p>\n",
              "</div>"
            ],
            "text/plain": [
              "       film_id  amount  sum_amount  ...  ratio_films  category  number_week\n",
              "0          973   35.12      930.62  ...     0.003813         A         30.0\n",
              "1          973   34.85      930.62  ...     0.003813         A         27.0\n",
              "2          973   34.01      930.62  ...     0.003813         A         27.0\n",
              "3          973   32.98      930.62  ...     0.003813         A         34.0\n",
              "4          973   35.52      930.62  ...     0.003813         A         33.0\n",
              "...        ...     ...         ...  ...          ...       ...          ...\n",
              "14587      257    3.99       36.90  ...     1.000000         C         30.0\n",
              "14588      257    3.99       36.90  ...     1.000000         C         33.0\n",
              "14589      257    5.99       36.90  ...     1.000000         C         28.0\n",
              "14590      257    0.99       36.90  ...     1.000000         C         33.0\n",
              "14591      257    3.99       36.90  ...     1.000000         C         24.0\n",
              "\n",
              "[14592 rows x 10 columns]"
            ]
          },
          "metadata": {
            "tags": []
          },
          "execution_count": 5
        }
      ]
    },
    {
      "cell_type": "markdown",
      "metadata": {
        "id": "SNRnPu1GzInf"
      },
      "source": [
        "##### ABC анализ при помощи Pandas"
      ]
    },
    {
      "cell_type": "code",
      "metadata": {
        "colab": {
          "base_uri": "https://localhost:8080/"
        },
        "id": "KCUT5qZnJ7PZ",
        "outputId": "a9f9fc1b-ebe2-49bd-a315-01a3d44e0eb4"
      },
      "source": [
        "summary = data['amount'].sum()\r\n",
        "ratio = data.groupby('film_id')['amount'].sum()\r\n",
        "ratio"
      ],
      "execution_count": null,
      "outputs": [
        {
          "output_type": "execute_result",
          "data": {
            "text/plain": [
              "film_id\n",
              "1       563.54\n",
              "2       135.28\n",
              "3       341.92\n",
              "4       416.05\n",
              "5       208.70\n",
              "         ...  \n",
              "996     133.72\n",
              "997     199.13\n",
              "998     213.69\n",
              "999     425.10\n",
              "1000    911.81\n",
              "Name: amount, Length: 958, dtype: float64"
            ]
          },
          "metadata": {
            "tags": []
          },
          "execution_count": 6
        }
      ]
    },
    {
      "cell_type": "code",
      "metadata": {
        "id": "unYZMPQxlmbV",
        "colab": {
          "base_uri": "https://localhost:8080/"
        },
        "outputId": "bce04884-1497-4c89-8289-e6fa98d4a549"
      },
      "source": [
        "#Найдем суммарную выручку и вклад каждого товара в общую выручку\r\n",
        "summary = data['amount'].sum()\r\n",
        "ratio = data.groupby('film_id')['amount'].sum()/summary\r\n",
        "ratio"
      ],
      "execution_count": null,
      "outputs": [
        {
          "output_type": "execute_result",
          "data": {
            "text/plain": [
              "film_id\n",
              "1       0.001503\n",
              "2       0.000361\n",
              "3       0.000912\n",
              "4       0.001110\n",
              "5       0.000557\n",
              "          ...   \n",
              "996     0.000357\n",
              "997     0.000531\n",
              "998     0.000570\n",
              "999     0.001134\n",
              "1000    0.002432\n",
              "Name: amount, Length: 958, dtype: float64"
            ]
          },
          "metadata": {
            "tags": []
          },
          "execution_count": 7
        }
      ]
    },
    {
      "cell_type": "code",
      "metadata": {
        "id": "z5YIMoeGqzwu",
        "colab": {
          "base_uri": "https://localhost:8080/"
        },
        "outputId": "5ca6f3bd-b9df-4e41-bb37-84dfc378f999"
      },
      "source": [
        "#Отсортируем полученный вклад по убыванию\r\n",
        "stocks = ratio.sort_values(ascending = False)\r\n",
        "stocks"
      ],
      "execution_count": null,
      "outputs": [
        {
          "output_type": "execute_result",
          "data": {
            "text/plain": [
              "film_id\n",
              "973     0.002483\n",
              "767     0.002469\n",
              "1000    0.002432\n",
              "361     0.002267\n",
              "31      0.002248\n",
              "          ...   \n",
              "196     0.000248\n",
              "584     0.000235\n",
              "803     0.000232\n",
              "323     0.000184\n",
              "257     0.000098\n",
              "Name: amount, Length: 958, dtype: float64"
            ]
          },
          "metadata": {
            "tags": []
          },
          "execution_count": 8
        }
      ]
    },
    {
      "cell_type": "code",
      "metadata": {
        "id": "TGVQvqs3rlpy",
        "colab": {
          "base_uri": "https://localhost:8080/"
        },
        "outputId": "8735b40c-a6af-49e4-cccb-ed458a1f5cf7"
      },
      "source": [
        "#Найдем кумулятивную сумму вклада\r\n",
        "stocks_cumsum = stocks.cumsum()\r\n",
        "stocks_cumsum"
      ],
      "execution_count": null,
      "outputs": [
        {
          "output_type": "execute_result",
          "data": {
            "text/plain": [
              "film_id\n",
              "973     0.002483\n",
              "767     0.004952\n",
              "1000    0.007384\n",
              "361     0.009651\n",
              "31      0.011898\n",
              "          ...   \n",
              "196     0.999251\n",
              "584     0.999486\n",
              "803     0.999718\n",
              "323     0.999902\n",
              "257     1.000000\n",
              "Name: amount, Length: 958, dtype: float64"
            ]
          },
          "metadata": {
            "tags": []
          },
          "execution_count": 9
        }
      ]
    },
    {
      "cell_type": "code",
      "metadata": {
        "id": "qqBgXPgBsSa9"
      },
      "source": [
        "def abc_segmentation(perc):\r\n",
        "  if perc < 0.8:\r\n",
        "    return 'A'\r\n",
        "  if perc >= 0.8 and perc < 0.95:\r\n",
        "    return 'B'\r\n",
        "  if perc >= 0.95:\r\n",
        "    return 'C'"
      ],
      "execution_count": null,
      "outputs": []
    },
    {
      "cell_type": "code",
      "metadata": {
        "colab": {
          "base_uri": "https://localhost:8080/"
        },
        "id": "-6DHmdD4sUgW",
        "outputId": "b697faf3-0760-46d8-8dfb-5bea33a662a0"
      },
      "source": [
        "#Воспользуемся функцией и присвоим категорию товарам\r\n",
        "segmentation = stocks_cumsum.apply(abc_segmentation)\r\n",
        "segmentation"
      ],
      "execution_count": null,
      "outputs": [
        {
          "output_type": "execute_result",
          "data": {
            "text/plain": [
              "film_id\n",
              "973     A\n",
              "767     A\n",
              "1000    A\n",
              "361     A\n",
              "31      A\n",
              "       ..\n",
              "196     C\n",
              "584     C\n",
              "803     C\n",
              "323     C\n",
              "257     C\n",
              "Name: amount, Length: 958, dtype: object"
            ]
          },
          "metadata": {
            "tags": []
          },
          "execution_count": 11
        }
      ]
    },
    {
      "cell_type": "code",
      "metadata": {
        "colab": {
          "base_uri": "https://localhost:8080/",
          "height": 450
        },
        "id": "CR1SmQbut40D",
        "outputId": "77077e89-e342-4e79-8b52-eacf50fb2b98"
      },
      "source": [
        "#Создадим таблицу с итогом ABC анализа\r\n",
        "abc_data = pd.DataFrame({'stocks':stocks,\r\n",
        "              'stocks_cumsum': stocks_cumsum,\r\n",
        "              'segmentation': segmentation})\r\n",
        "abc_data"
      ],
      "execution_count": null,
      "outputs": [
        {
          "output_type": "execute_result",
          "data": {
            "text/html": [
              "<div>\n",
              "<style scoped>\n",
              "    .dataframe tbody tr th:only-of-type {\n",
              "        vertical-align: middle;\n",
              "    }\n",
              "\n",
              "    .dataframe tbody tr th {\n",
              "        vertical-align: top;\n",
              "    }\n",
              "\n",
              "    .dataframe thead th {\n",
              "        text-align: right;\n",
              "    }\n",
              "</style>\n",
              "<table border=\"1\" class=\"dataframe\">\n",
              "  <thead>\n",
              "    <tr style=\"text-align: right;\">\n",
              "      <th></th>\n",
              "      <th>stocks</th>\n",
              "      <th>stocks_cumsum</th>\n",
              "      <th>segmentation</th>\n",
              "    </tr>\n",
              "    <tr>\n",
              "      <th>film_id</th>\n",
              "      <th></th>\n",
              "      <th></th>\n",
              "      <th></th>\n",
              "    </tr>\n",
              "  </thead>\n",
              "  <tbody>\n",
              "    <tr>\n",
              "      <th>973</th>\n",
              "      <td>0.002483</td>\n",
              "      <td>0.002483</td>\n",
              "      <td>A</td>\n",
              "    </tr>\n",
              "    <tr>\n",
              "      <th>767</th>\n",
              "      <td>0.002469</td>\n",
              "      <td>0.004952</td>\n",
              "      <td>A</td>\n",
              "    </tr>\n",
              "    <tr>\n",
              "      <th>1000</th>\n",
              "      <td>0.002432</td>\n",
              "      <td>0.007384</td>\n",
              "      <td>A</td>\n",
              "    </tr>\n",
              "    <tr>\n",
              "      <th>361</th>\n",
              "      <td>0.002267</td>\n",
              "      <td>0.009651</td>\n",
              "      <td>A</td>\n",
              "    </tr>\n",
              "    <tr>\n",
              "      <th>31</th>\n",
              "      <td>0.002248</td>\n",
              "      <td>0.011898</td>\n",
              "      <td>A</td>\n",
              "    </tr>\n",
              "    <tr>\n",
              "      <th>...</th>\n",
              "      <td>...</td>\n",
              "      <td>...</td>\n",
              "      <td>...</td>\n",
              "    </tr>\n",
              "    <tr>\n",
              "      <th>196</th>\n",
              "      <td>0.000248</td>\n",
              "      <td>0.999251</td>\n",
              "      <td>C</td>\n",
              "    </tr>\n",
              "    <tr>\n",
              "      <th>584</th>\n",
              "      <td>0.000235</td>\n",
              "      <td>0.999486</td>\n",
              "      <td>C</td>\n",
              "    </tr>\n",
              "    <tr>\n",
              "      <th>803</th>\n",
              "      <td>0.000232</td>\n",
              "      <td>0.999718</td>\n",
              "      <td>C</td>\n",
              "    </tr>\n",
              "    <tr>\n",
              "      <th>323</th>\n",
              "      <td>0.000184</td>\n",
              "      <td>0.999902</td>\n",
              "      <td>C</td>\n",
              "    </tr>\n",
              "    <tr>\n",
              "      <th>257</th>\n",
              "      <td>0.000098</td>\n",
              "      <td>1.000000</td>\n",
              "      <td>C</td>\n",
              "    </tr>\n",
              "  </tbody>\n",
              "</table>\n",
              "<p>958 rows × 3 columns</p>\n",
              "</div>"
            ],
            "text/plain": [
              "           stocks  stocks_cumsum segmentation\n",
              "film_id                                      \n",
              "973      0.002483       0.002483            A\n",
              "767      0.002469       0.004952            A\n",
              "1000     0.002432       0.007384            A\n",
              "361      0.002267       0.009651            A\n",
              "31       0.002248       0.011898            A\n",
              "...           ...            ...          ...\n",
              "196      0.000248       0.999251            C\n",
              "584      0.000235       0.999486            C\n",
              "803      0.000232       0.999718            C\n",
              "323      0.000184       0.999902            C\n",
              "257      0.000098       1.000000            C\n",
              "\n",
              "[958 rows x 3 columns]"
            ]
          },
          "metadata": {
            "tags": []
          },
          "execution_count": 12
        }
      ]
    },
    {
      "cell_type": "markdown",
      "metadata": {
        "id": "OBaNun7vzQmW"
      },
      "source": [
        "По итогу ABC анализа сделаем график с распределением групп"
      ]
    },
    {
      "cell_type": "code",
      "metadata": {
        "colab": {
          "base_uri": "https://localhost:8080/",
          "height": 299
        },
        "id": "dgEreepvw2T7",
        "outputId": "446d0b31-b473-42c6-93fe-b0abe7ecf241"
      },
      "source": [
        "sns.histplot(abc_data['segmentation'])\r\n",
        "plt.xlabel('Категория',fontsize = 12)\r\n",
        "plt.ylabel('Количество товаров', fontsize = 12)\r\n",
        "plt.title('Распределение товаров по группам', fontsize = 13.5)\r\n",
        "plt.show()\r\n"
      ],
      "execution_count": null,
      "outputs": [
        {
          "output_type": "display_data",
          "data": {
            "image/png": "[encoded data removed]",
            "text/plain": [
              "<Figure size 432x288 with 1 Axes>"
            ]
          },
          "metadata": {
            "tags": [],
            "needs_background": "light"
          }
        }
      ]
    },
    {
      "cell_type": "markdown",
      "metadata": {
        "id": "-K7-Rz8Lhzwx"
      },
      "source": [
        "Узнам вклад каждой категории"
      ]
    },
    {
      "cell_type": "code",
      "metadata": {
        "colab": {
          "base_uri": "https://localhost:8080/"
        },
        "id": "fcUsDv_wxT4k",
        "outputId": "235c9ceb-ef0b-4ec6-cd1f-7757aea5c711"
      },
      "source": [
        "values = abc_data['segmentation'].value_counts()\r\n",
        "for n,i in enumerate(values):\r\n",
        "  sum = values.sum()\r\n",
        "  ratio = i/values.sum()\r\n",
        "  group = values.index[n]\r\n",
        "  print(f'Вклад категории {group}: {ratio.round(3)}')"
      ],
      "execution_count": null,
      "outputs": [
        {
          "output_type": "stream",
          "text": [
            "Вклад категории A: 0.635\n",
            "Вклад категории B: 0.235\n",
            "Вклад категории C: 0.13\n"
          ],
          "name": "stdout"
        }
      ]
    },
    {
      "cell_type": "markdown",
      "metadata": {
        "id": "wUbl3WAj8f9Q"
      },
      "source": [
        "Как видим, принцип Парето здесь не работает и больше подходит соотношение 63,5% 23,5% 13%"
      ]
    },
    {
      "cell_type": "markdown",
      "metadata": {
        "id": "YrSLbMmPusGf"
      },
      "source": [
        "Соеденим исходную таблицу и таблицу с результатами ABC анализа"
      ]
    },
    {
      "cell_type": "code",
      "metadata": {
        "colab": {
          "base_uri": "https://localhost:8080/",
          "height": 419
        },
        "id": "sEh0H-rTrfKJ",
        "outputId": "c42c17ab-4743-4400-b772-c71af1e6db3c"
      },
      "source": [
        "data_with_abc = data.merge(abc_data['segmentation'], how = 'inner', left_on = 'film_id', right_index= True)\r\n",
        "data_with_abc"
      ],
      "execution_count": null,
      "outputs": [
        {
          "output_type": "execute_result",
          "data": {
            "text/html": [
              "<div>\n",
              "<style scoped>\n",
              "    .dataframe tbody tr th:only-of-type {\n",
              "        vertical-align: middle;\n",
              "    }\n",
              "\n",
              "    .dataframe tbody tr th {\n",
              "        vertical-align: top;\n",
              "    }\n",
              "\n",
              "    .dataframe thead th {\n",
              "        text-align: right;\n",
              "    }\n",
              "</style>\n",
              "<table border=\"1\" class=\"dataframe\">\n",
              "  <thead>\n",
              "    <tr style=\"text-align: right;\">\n",
              "      <th></th>\n",
              "      <th>film_id</th>\n",
              "      <th>amount</th>\n",
              "      <th>week_number</th>\n",
              "      <th>segmentation</th>\n",
              "    </tr>\n",
              "  </thead>\n",
              "  <tbody>\n",
              "    <tr>\n",
              "      <th>0</th>\n",
              "      <td>257</td>\n",
              "      <td>3.99</td>\n",
              "      <td>24.0</td>\n",
              "      <td>C</td>\n",
              "    </tr>\n",
              "    <tr>\n",
              "      <th>1</th>\n",
              "      <td>257</td>\n",
              "      <td>0.99</td>\n",
              "      <td>24.0</td>\n",
              "      <td>C</td>\n",
              "    </tr>\n",
              "    <tr>\n",
              "      <th>7</th>\n",
              "      <td>257</td>\n",
              "      <td>0.99</td>\n",
              "      <td>33.0</td>\n",
              "      <td>C</td>\n",
              "    </tr>\n",
              "    <tr>\n",
              "      <th>9</th>\n",
              "      <td>257</td>\n",
              "      <td>3.99</td>\n",
              "      <td>33.0</td>\n",
              "      <td>C</td>\n",
              "    </tr>\n",
              "    <tr>\n",
              "      <th>18</th>\n",
              "      <td>257</td>\n",
              "      <td>1.99</td>\n",
              "      <td>33.0</td>\n",
              "      <td>C</td>\n",
              "    </tr>\n",
              "    <tr>\n",
              "      <th>...</th>\n",
              "      <td>...</td>\n",
              "      <td>...</td>\n",
              "      <td>...</td>\n",
              "      <td>...</td>\n",
              "    </tr>\n",
              "    <tr>\n",
              "      <th>8213</th>\n",
              "      <td>884</td>\n",
              "      <td>28.34</td>\n",
              "      <td>30.0</td>\n",
              "      <td>C</td>\n",
              "    </tr>\n",
              "    <tr>\n",
              "      <th>8304</th>\n",
              "      <td>884</td>\n",
              "      <td>29.28</td>\n",
              "      <td>30.0</td>\n",
              "      <td>C</td>\n",
              "    </tr>\n",
              "    <tr>\n",
              "      <th>10771</th>\n",
              "      <td>884</td>\n",
              "      <td>27.35</td>\n",
              "      <td>33.0</td>\n",
              "      <td>C</td>\n",
              "    </tr>\n",
              "    <tr>\n",
              "      <th>12170</th>\n",
              "      <td>884</td>\n",
              "      <td>28.12</td>\n",
              "      <td>33.0</td>\n",
              "      <td>C</td>\n",
              "    </tr>\n",
              "    <tr>\n",
              "      <th>13517</th>\n",
              "      <td>884</td>\n",
              "      <td>26.65</td>\n",
              "      <td>34.0</td>\n",
              "      <td>C</td>\n",
              "    </tr>\n",
              "  </tbody>\n",
              "</table>\n",
              "<p>14596 rows × 4 columns</p>\n",
              "</div>"
            ],
            "text/plain": [
              "       film_id  amount  week_number segmentation\n",
              "0          257    3.99         24.0            C\n",
              "1          257    0.99         24.0            C\n",
              "7          257    0.99         33.0            C\n",
              "9          257    3.99         33.0            C\n",
              "18         257    1.99         33.0            C\n",
              "...        ...     ...          ...          ...\n",
              "8213       884   28.34         30.0            C\n",
              "8304       884   29.28         30.0            C\n",
              "10771      884   27.35         33.0            C\n",
              "12170      884   28.12         33.0            C\n",
              "13517      884   26.65         34.0            C\n",
              "\n",
              "[14596 rows x 4 columns]"
            ]
          },
          "metadata": {
            "tags": []
          },
          "execution_count": 15
        }
      ]
    },
    {
      "cell_type": "markdown",
      "metadata": {
        "id": "_apF585urYfj"
      },
      "source": [
        "#### На основе полученного (общего) анализа ассортимента, оценим средний объем недельной выручки в каждой категории в привязке к дате начала аренды. Узнаем в какой  категории эта оценка имеет меньший разброс."
      ]
    },
    {
      "cell_type": "markdown",
      "metadata": {
        "id": "9vJjHoHHuzhb"
      },
      "source": [
        "Найдём средний объём недельной выручки в каждой категории"
      ]
    },
    {
      "cell_type": "code",
      "metadata": {
        "colab": {
          "base_uri": "https://localhost:8080/",
          "height": 917
        },
        "id": "51ddJd2TuQlK",
        "outputId": "906094a5-0125-4213-a7ea-6584c440b25f"
      },
      "source": [
        "mean_renevue_week = data_with_abc.groupby(['segmentation', 'week_number']).agg({'amount': np.mean})\r\n",
        "mean_renevue_week"
      ],
      "execution_count": null,
      "outputs": [
        {
          "output_type": "execute_result",
          "data": {
            "text/html": [
              "<div>\n",
              "<style scoped>\n",
              "    .dataframe tbody tr th:only-of-type {\n",
              "        vertical-align: middle;\n",
              "    }\n",
              "\n",
              "    .dataframe tbody tr th {\n",
              "        vertical-align: top;\n",
              "    }\n",
              "\n",
              "    .dataframe thead th {\n",
              "        text-align: right;\n",
              "    }\n",
              "</style>\n",
              "<table border=\"1\" class=\"dataframe\">\n",
              "  <thead>\n",
              "    <tr style=\"text-align: right;\">\n",
              "      <th></th>\n",
              "      <th></th>\n",
              "      <th>amount</th>\n",
              "    </tr>\n",
              "    <tr>\n",
              "      <th>segmentation</th>\n",
              "      <th>week_number</th>\n",
              "      <th></th>\n",
              "    </tr>\n",
              "  </thead>\n",
              "  <tbody>\n",
              "    <tr>\n",
              "      <th rowspan=\"9\" valign=\"top\">A</th>\n",
              "      <th>7.0</th>\n",
              "      <td>26.317586</td>\n",
              "    </tr>\n",
              "    <tr>\n",
              "      <th>24.0</th>\n",
              "      <td>26.292633</td>\n",
              "    </tr>\n",
              "    <tr>\n",
              "      <th>25.0</th>\n",
              "      <td>26.394512</td>\n",
              "    </tr>\n",
              "    <tr>\n",
              "      <th>27.0</th>\n",
              "      <td>26.398888</td>\n",
              "    </tr>\n",
              "    <tr>\n",
              "      <th>28.0</th>\n",
              "      <td>26.002995</td>\n",
              "    </tr>\n",
              "    <tr>\n",
              "      <th>30.0</th>\n",
              "      <td>26.227241</td>\n",
              "    </tr>\n",
              "    <tr>\n",
              "      <th>31.0</th>\n",
              "      <td>26.567321</td>\n",
              "    </tr>\n",
              "    <tr>\n",
              "      <th>33.0</th>\n",
              "      <td>26.215355</td>\n",
              "    </tr>\n",
              "    <tr>\n",
              "      <th>34.0</th>\n",
              "      <td>26.546926</td>\n",
              "    </tr>\n",
              "    <tr>\n",
              "      <th rowspan=\"9\" valign=\"top\">B</th>\n",
              "      <th>7.0</th>\n",
              "      <td>22.868148</td>\n",
              "    </tr>\n",
              "    <tr>\n",
              "      <th>24.0</th>\n",
              "      <td>23.747788</td>\n",
              "    </tr>\n",
              "    <tr>\n",
              "      <th>25.0</th>\n",
              "      <td>24.605422</td>\n",
              "    </tr>\n",
              "    <tr>\n",
              "      <th>27.0</th>\n",
              "      <td>23.913664</td>\n",
              "    </tr>\n",
              "    <tr>\n",
              "      <th>28.0</th>\n",
              "      <td>24.021509</td>\n",
              "    </tr>\n",
              "    <tr>\n",
              "      <th>30.0</th>\n",
              "      <td>23.755952</td>\n",
              "    </tr>\n",
              "    <tr>\n",
              "      <th>31.0</th>\n",
              "      <td>24.133861</td>\n",
              "    </tr>\n",
              "    <tr>\n",
              "      <th>33.0</th>\n",
              "      <td>24.011016</td>\n",
              "    </tr>\n",
              "    <tr>\n",
              "      <th>34.0</th>\n",
              "      <td>23.847087</td>\n",
              "    </tr>\n",
              "    <tr>\n",
              "      <th rowspan=\"9\" valign=\"top\">C</th>\n",
              "      <th>7.0</th>\n",
              "      <td>23.203000</td>\n",
              "    </tr>\n",
              "    <tr>\n",
              "      <th>24.0</th>\n",
              "      <td>21.724286</td>\n",
              "    </tr>\n",
              "    <tr>\n",
              "      <th>25.0</th>\n",
              "      <td>21.384828</td>\n",
              "    </tr>\n",
              "    <tr>\n",
              "      <th>27.0</th>\n",
              "      <td>22.338777</td>\n",
              "    </tr>\n",
              "    <tr>\n",
              "      <th>28.0</th>\n",
              "      <td>21.675306</td>\n",
              "    </tr>\n",
              "    <tr>\n",
              "      <th>30.0</th>\n",
              "      <td>22.117812</td>\n",
              "    </tr>\n",
              "    <tr>\n",
              "      <th>31.0</th>\n",
              "      <td>22.912222</td>\n",
              "    </tr>\n",
              "    <tr>\n",
              "      <th>33.0</th>\n",
              "      <td>21.898934</td>\n",
              "    </tr>\n",
              "    <tr>\n",
              "      <th>34.0</th>\n",
              "      <td>22.756667</td>\n",
              "    </tr>\n",
              "  </tbody>\n",
              "</table>\n",
              "</div>"
            ],
            "text/plain": [
              "                             amount\n",
              "segmentation week_number           \n",
              "A            7.0          26.317586\n",
              "             24.0         26.292633\n",
              "             25.0         26.394512\n",
              "             27.0         26.398888\n",
              "             28.0         26.002995\n",
              "             30.0         26.227241\n",
              "             31.0         26.567321\n",
              "             33.0         26.215355\n",
              "             34.0         26.546926\n",
              "B            7.0          22.868148\n",
              "             24.0         23.747788\n",
              "             25.0         24.605422\n",
              "             27.0         23.913664\n",
              "             28.0         24.021509\n",
              "             30.0         23.755952\n",
              "             31.0         24.133861\n",
              "             33.0         24.011016\n",
              "             34.0         23.847087\n",
              "C            7.0          23.203000\n",
              "             24.0         21.724286\n",
              "             25.0         21.384828\n",
              "             27.0         22.338777\n",
              "             28.0         21.675306\n",
              "             30.0         22.117812\n",
              "             31.0         22.912222\n",
              "             33.0         21.898934\n",
              "             34.0         22.756667"
            ]
          },
          "metadata": {
            "tags": []
          },
          "execution_count": 55
        }
      ]
    },
    {
      "cell_type": "markdown",
      "metadata": {
        "id": "37MdxpIcFvPj"
      },
      "source": [
        "Из таблицы мы видим, что средний объём недельной выручки в категории \"А\" находится в диапазоне от 26.0 до 26.7\\\r\n",
        "В категории \"B\" он от 22.8 до 24.6\\\r\n",
        "А в категории \"C\" от 21.1 до 23.2 "
      ]
    },
    {
      "cell_type": "markdown",
      "metadata": {
        "id": "AxZmoii1C4qU"
      },
      "source": [
        "Посмотрим, как эти данные будут выглядеть на графике.\r\n"
      ]
    },
    {
      "cell_type": "code",
      "metadata": {
        "colab": {
          "base_uri": "https://localhost:8080/",
          "height": 388
        },
        "id": "SaUBXavB_ihv",
        "outputId": "42c36f57-d7dd-4a44-a792-6a2d01d8e66e"
      },
      "source": [
        "no_id_data = mean_renevue_week.reset_index()\r\n",
        "plt.figure(figsize = (14,6))\r\n",
        "sns.barplot(data = no_id_data, x = 'week_number', y = 'amount', hue = 'segmentation')\r\n",
        "plt.xlabel('Номер недели')\r\n",
        "plt.ylabel('Средний объём выручки')\r\n",
        "plt.legend(loc = 'lower center', title = 'Категория')\r\n",
        "plt.show()"
      ],
      "execution_count": null,
      "outputs": [
        {
          "output_type": "display_data",
          "data": {
            "image/png": "[encoded data removed]",
            "text/plain": [
              "<Figure size 1008x432 with 1 Axes>"
            ]
          },
          "metadata": {
            "tags": [],
            "needs_background": "light"
          }
        }
      ]
    },
    {
      "cell_type": "markdown",
      "metadata": {
        "id": "urAAxXnjW-6Q"
      },
      "source": [
        "Посмотрев на график, мы увидим, что в категории \"A\" средний объём недельной выручки приближен к равномерному распределению, а в остальных категориях он менее приближен к равномерному распределению.\r\n"
      ]
    },
    {
      "cell_type": "markdown",
      "metadata": {
        "id": "C-dny1JqI_Zp"
      },
      "source": [
        "Посмотрим с другой стороны на разброс средних значений недельной выручки.\r\n"
      ]
    },
    {
      "cell_type": "code",
      "metadata": {
        "colab": {
          "base_uri": "https://localhost:8080/",
          "height": 408
        },
        "id": "SbyCuZ0HFlSs",
        "outputId": "45cccbd4-a31a-4dfd-8415-efbada4cda4c"
      },
      "source": [
        "plt.figure(figsize = (11,6))\r\n",
        "sns.lineplot(data = mean_renevue_week.reset_index(), x = 'week_number', y = 'amount', hue = 'segmentation')\r\n",
        "plt.title('Распределение среднего объёма выручки в неделю', fontsize = 13.5)\r\n",
        "plt.xlabel('Номер недели', fontsize = 12)\r\n",
        "plt.ylabel('Средний объём выручки', fontsize = 12)\r\n",
        "plt.show()"
      ],
      "execution_count": null,
      "outputs": [
        {
          "output_type": "display_data",
          "data": {
            "image/png": "[encoded data removed]",
            "text/plain": [
              "<Figure size 792x432 with 1 Axes>"
            ]
          },
          "metadata": {
            "tags": [],
            "needs_background": "light"
          }
        }
      ]
    },
    {
      "cell_type": "markdown",
      "metadata": {
        "id": "XvoMBtqrJS3W"
      },
      "source": [
        "График выше отображает распределение среднего объёма выручки за неделю.\\\r\n",
        "На линейчатом графике по оси \"X\" расположен номер недели, а по оси \"Y\" средний объём выручки за каждую неделю.\\\r\n",
        "Из графика мы видим, что наименьший разброс среднего имеет категория \"A\", а наибольший - категория \"С\""
      ]
    }
  ]
}